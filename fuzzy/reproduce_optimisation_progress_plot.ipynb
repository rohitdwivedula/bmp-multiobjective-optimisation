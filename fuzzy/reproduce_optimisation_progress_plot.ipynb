{
 "cells": [
  {
   "cell_type": "markdown",
   "metadata": {},
   "source": [
    "# Optimisation Progress Graphs"
   ]
  },
  {
   "cell_type": "code",
   "execution_count": null,
   "metadata": {},
   "outputs": [],
   "source": [
    "import numpy as np\n",
    "import pandas as pd\n",
    "import matplotlib.pyplot as plt\n",
    "import os\n",
    "import pickle"
   ]
  },
  {
   "cell_type": "code",
   "execution_count": null,
   "metadata": {},
   "outputs": [],
   "source": [
    "EXP_NUMBER = 1\n",
    "SAVE_PLOT = False\n",
    "allprogress = pd.read_csv(\"results/exp\" + str(EXP_NUMBER) + \"/optimisation_progress.csv\")"
   ]
  },
  {
   "cell_type": "code",
   "execution_count": null,
   "metadata": {},
   "outputs": [],
   "source": [
    "evals = np.asarray(range(1, 101)) * 1000\n",
    "if EXP_NUMBER == 0:\n",
    "    START = 0\n",
    "    plt.title(\"Optimisation convergence (hyperbolic)\")\n",
    "elif EXP_NUMBER == 1:\n",
    "    START = 3\n",
    "    plt.title(\"Optimisation convergence (exponential)\")\n",
    "elif EXP_NUMBER == 2:\n",
    "    START = 3\n",
    "    plt.title(\"Optimisation Convergence (nonlinear)\")\n",
    "plt.xlabel(\"Function Evaluations\")\n",
    "plt.ylabel(\"$\\lambda$\")\n",
    "plt.ticklabel_format(useMathText=True)\n",
    "plt.grid('major')\n",
    "if EXP_NUMBER == 0:\n",
    "    plt.plot(evals, np.asarray(allprogress)[0])\n",
    "else:\n",
    "    for i in range(0, 100):\n",
    "        plt.plot(evals, np.asarray(allprogress.iloc[i][START:]), '-', linewidth = 0.5)\n",
    "if SAVE_PLOT:\n",
    "    plt.savefig(\"results/exp\" + str(EXP_NUMBER) + \"/optimisation_progress.png\", dpi = 900)"
   ]
  },
  {
   "cell_type": "code",
   "execution_count": null,
   "metadata": {},
   "outputs": [],
   "source": []
  }
 ],
 "metadata": {
  "kernelspec": {
   "display_name": "Python 3",
   "language": "python",
   "name": "python3"
  },
  "language_info": {
   "codemirror_mode": {
    "name": "ipython",
    "version": 3
   },
   "file_extension": ".py",
   "mimetype": "text/x-python",
   "name": "python",
   "nbconvert_exporter": "python",
   "pygments_lexer": "ipython3",
   "version": "3.8.10"
  }
 },
 "nbformat": 4,
 "nbformat_minor": 4
}
